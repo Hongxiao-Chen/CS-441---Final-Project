{
 "cells": [
  {
   "cell_type": "markdown",
   "metadata": {},
   "source": [
    "# CS 441 Final Project - Disaster Tweets"
   ]
  },
  {
   "cell_type": "markdown",
   "metadata": {},
   "source": [
    "## 1. Import"
   ]
  },
  {
   "cell_type": "code",
   "execution_count": 1,
   "metadata": {},
   "outputs": [],
   "source": [
    "import pandas as pd\n",
    "from sklearn.model_selection import train_test_split"
   ]
  },
  {
   "cell_type": "code",
   "execution_count": 25,
   "metadata": {},
   "outputs": [
    {
     "name": "stdout",
     "output_type": "stream",
     "text": [
      "Training set: (6090, 5)\n",
      "Validation set: (1523, 5)\n",
      "Example:\n",
      " id                                                         49\n",
      "keyword                                                ablaze\n",
      "location                        Est. September 2012 - Bristol\n",
      "text        We always try to bring the heavy. #metal #RT h...\n",
      "target                                                      0\n",
      "Name: 32, dtype: object\n"
     ]
    }
   ],
   "source": [
    "# Load the dataset\n",
    "train_df = pd.read_csv(\"train.csv\")\n",
    "\n",
    "# Split the dataset (80% train, 20% validation)\n",
    "train_data, val_data = train_test_split(train_df, test_size = 0.2, random_state = 441)\n",
    "\n",
    "print(\"Training set:\", train_data.shape)\n",
    "print(\"Validation set:\", val_data.shape)\n",
    "\n",
    "print(\"Example:\\n\", train_df.iloc[32])"
   ]
  },
  {
   "cell_type": "code",
   "execution_count": null,
   "metadata": {},
   "outputs": [],
   "source": []
  }
 ],
 "metadata": {
  "kernelspec": {
   "display_name": "Python 3",
   "language": "python",
   "name": "python3"
  },
  "language_info": {
   "codemirror_mode": {
    "name": "ipython",
    "version": 3
   },
   "file_extension": ".py",
   "mimetype": "text/x-python",
   "name": "python",
   "nbconvert_exporter": "python",
   "pygments_lexer": "ipython3",
   "version": "3.10.11"
  }
 },
 "nbformat": 4,
 "nbformat_minor": 2
}
